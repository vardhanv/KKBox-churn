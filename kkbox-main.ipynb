{
 "cells": [
  {
   "cell_type": "code",
   "execution_count": 1,
   "metadata": {
    "collapsed": true,
    "deletable": true,
    "editable": true
   },
   "outputs": [],
   "source": [
    "import findspark\n",
    "findspark.init()\n",
    "\n",
    "import pyspark\n",
    "sc = pyspark.SparkContext()\n",
    "spark = pyspark.sql.SparkSession(sc)"
   ]
  },
  {
   "cell_type": "code",
   "execution_count": 35,
   "metadata": {
    "collapsed": false,
    "deletable": true,
    "editable": true
   },
   "outputs": [],
   "source": [
    "\n",
    "import matplotlib.pyplot as pyplt\n",
    "import numpy as np\n",
    "from ggplot import *\n",
    "from datetime import datetime\n",
    "\n",
    "import pyspark.sql.functions as sf\n"
   ]
  },
  {
   "cell_type": "markdown",
   "metadata": {
    "deletable": true,
    "editable": true
   },
   "source": [
    "<h4> Helper functions </h4>"
   ]
  },
  {
   "cell_type": "code",
   "execution_count": 3,
   "metadata": {
    "collapsed": false,
    "deletable": true,
    "editable": true
   },
   "outputs": [],
   "source": [
    "def getInt(x):\n",
    "    try: v = int(x)\n",
    "    except: v = 0\n",
    "    return v\n",
    "\n",
    "\n",
    "def getDate(x):\n",
    "    try: v = datetime.strptime(x,\"%Y%m%d\").date()\n",
    "    except: v = datetime.strptime(\"19010101\",\"%Y%m%d\").date()\n",
    "    return v\n",
    "\n",
    "def nothing(x):\n",
    "    return x\n",
    "\n",
    "def getFloat(x):\n",
    "    try: v = float(x)\n",
    "    except: v = 0\n",
    "    return v\n",
    "\n",
    "\n",
    "# Rename columns of a dataframe using the array of new names\n",
    "def renameCols(df,newNames):\n",
    "    nDF = df\n",
    "    assert(len(df.schema.names) == len(newNames))\n",
    "    for i in range(0,len(df.schema.names)):\n",
    "        nDF = nDF.withColumnRenamed(nDF.schema.names[i],newNames[i])\n",
    "    return nDF\n",
    "\n",
    "# Takes a list of functions, and applies thme to the row, \n",
    "# input: array of strings\n",
    "# output: tuple ( types as determinted by the return type of the functions )\n",
    "def getTupleFromSchema(l,colExtractors):\n",
    "   assert(len(colExtractors) == len(l))\n",
    "   return tuple ( [colExtractors[i](l[i]) for i in range(0,len(l))] )\n"
   ]
  },
  {
   "cell_type": "code",
   "execution_count": 4,
   "metadata": {
    "collapsed": false,
    "deletable": true,
    "editable": true
   },
   "outputs": [],
   "source": [
    "def getDF(fname,colExtractors):\n",
    "   # read the file\n",
    "   inRDD = sc.textFile(fname)\n",
    "\n",
    "    # get the schema from the first row\n",
    "   schema = ''.join(inRDD.take(1)).split(',')\n",
    "    \n",
    "   # leave out the first row (assumed column)\n",
    "   allRowsExceptFirst = inRDD.zipWithIndex().filter(lambda r: r[1] > 0 ).map(lambda r: r[0])\n",
    "   \n",
    "   # create the RDD of interest, mapping the colums as we go. \n",
    "   tRDD = allRowsExceptFirst.map(lambda l: l.replace(' ','').split(','))\\\n",
    "              .map(lambda l: getTupleFromSchema(l, colExtractors))\n",
    "    \n",
    "    # Rename columns based on schema\n",
    "   tDF = renameCols(tRDD.toDF(),schema)\n",
    "   return tDF"
   ]
  },
  {
   "cell_type": "markdown",
   "metadata": {
    "deletable": true,
    "editable": true
   },
   "source": [
    "<h1> Real Program Starts Here </h1>"
   ]
  },
  {
   "cell_type": "markdown",
   "metadata": {
    "deletable": true,
    "editable": true
   },
   "source": [
    "<h5> Get a clean memDF (\"DF of members\") </h5>"
   ]
  },
  {
   "cell_type": "code",
   "execution_count": 5,
   "metadata": {
    "collapsed": false,
    "deletable": true,
    "editable": true
   },
   "outputs": [
    {
     "name": "stdout",
     "output_type": "stream",
     "text": [
      "+--------------------+----+---+------+--------------+----------------------+---------------+\n",
      "|                msno|city| bd|gender|registered_via|registration_init_time|expiration_date|\n",
      "+--------------------+----+---+------+--------------+----------------------+---------------+\n",
      "|URiXrfYPzHAlk+7+n...|   1|  0|      |             9|            2015-05-25|     2015-05-26|\n",
      "|U1q0qCqK/lDMTD2kN...|   1|  0|      |             4|            2016-12-21|     2016-12-24|\n",
      "|W6M2H2kAoN9ahfDYK...|   1|  0|      |             4|            2016-03-06|     2016-03-09|\n",
      "|1qE5+cN7CUyC+KFH6...|   5| 17|female|             4|            2016-10-31|     2016-11-07|\n",
      "|SeAnaZPI+tFdAt+r3...|   1|  0|      |             4|            2017-02-02|     2017-02-05|\n",
      "+--------------------+----+---+------+--------------+----------------------+---------------+\n",
      "only showing top 5 rows\n",
      "\n"
     ]
    }
   ],
   "source": [
    "memDF = getDF('dataset/members.csv',[nothing,getInt,getInt,nothing,getInt,getDate,getDate])\n",
    "memDF.show(5)"
   ]
  },
  {
   "cell_type": "markdown",
   "metadata": {
    "deletable": true,
    "editable": true
   },
   "source": [
    "<h5> Get a clean sampleSubZeroDF (\"DF of Sample Submission\") </h5>"
   ]
  },
  {
   "cell_type": "code",
   "execution_count": 6,
   "metadata": {
    "collapsed": false,
    "deletable": true,
    "editable": true
   },
   "outputs": [
    {
     "name": "stdout",
     "output_type": "stream",
     "text": [
      "+--------------------+--------+\n",
      "|                msno|is_churn|\n",
      "+--------------------+--------+\n",
      "|ugx0CjOMzazClkFzU...|       0|\n",
      "|f/NmvEzHfhINFEYZT...|       0|\n",
      "|zLo9f73nGGT1p21lt...|       0|\n",
      "|8iF/+8HY8lJKFrTc7...|       0|\n",
      "|K6fja4+jmoZ5xG6By...|       0|\n",
      "+--------------------+--------+\n",
      "only showing top 5 rows\n",
      "\n"
     ]
    }
   ],
   "source": [
    "sampleSubZeroDF = getDF('dataset/sample_submission_zero.csv',[nothing,getInt])\n",
    "sampleSubZeroDF.show(5)"
   ]
  },
  {
   "cell_type": "markdown",
   "metadata": {
    "deletable": true,
    "editable": true
   },
   "source": [
    "<h5> Get a clean trainDF (\"DF of train\") </h5>"
   ]
  },
  {
   "cell_type": "code",
   "execution_count": 7,
   "metadata": {
    "collapsed": false,
    "deletable": true,
    "editable": true
   },
   "outputs": [
    {
     "name": "stdout",
     "output_type": "stream",
     "text": [
      "+--------------------+--------+\n",
      "|                msno|is_churn|\n",
      "+--------------------+--------+\n",
      "|waLDQMmcOu2jLDaV1...|       1|\n",
      "|QA7uiXy8vIbUSPOkC...|       1|\n",
      "|fGwBva6hikQmTJzrb...|       1|\n",
      "|mT5V8rEpa+8wuqi6x...|       1|\n",
      "|XaPhtGLk/5UvvOYHc...|       1|\n",
      "+--------------------+--------+\n",
      "only showing top 5 rows\n",
      "\n"
     ]
    }
   ],
   "source": [
    "trainDF = getDF('dataset/train.csv',[nothing,getInt])\n",
    "trainDF.show(5)"
   ]
  },
  {
   "cell_type": "markdown",
   "metadata": {
    "deletable": true,
    "editable": true
   },
   "source": [
    "<h5> Get a clean transactionsDF (\"DF of transactions\") </h5>"
   ]
  },
  {
   "cell_type": "code",
   "execution_count": 8,
   "metadata": {
    "collapsed": false,
    "deletable": true,
    "editable": true
   },
   "outputs": [
    {
     "name": "stdout",
     "output_type": "stream",
     "text": [
      "+--------------------+-----------------+-----------------+---------------+------------------+-------------+----------------+----------------------+---------+\n",
      "|                msno|payment_method_id|payment_plan_days|plan_list_price|actual_amount_paid|is_auto_renew|transaction_date|membership_expire_date|is_cancel|\n",
      "+--------------------+-----------------+-----------------+---------------+------------------+-------------+----------------+----------------------+---------+\n",
      "|YyO+tlZtAXYXoZhNr...|               41|               30|            129|               129|            1|      2015-09-30|            2015-11-01|        0|\n",
      "|AZtu6Wl0gPojrEQYB...|               41|               30|            149|               149|            1|      2015-09-30|            2015-10-31|        0|\n",
      "|UkDFI97Qb6+s2LWci...|               41|               30|            129|               129|            1|      2015-09-30|            2016-04-27|        0|\n",
      "+--------------------+-----------------+-----------------+---------------+------------------+-------------+----------------+----------------------+---------+\n",
      "only showing top 3 rows\n",
      "\n"
     ]
    }
   ],
   "source": [
    "transactionsDF = getDF('dataset/transactions.csv',[nothing,getInt,getInt,getInt,getInt,getInt,getDate,getDate,getInt])\n",
    "transactionsDF.show(3)"
   ]
  },
  {
   "cell_type": "code",
   "execution_count": 9,
   "metadata": {
    "collapsed": false,
    "deletable": true,
    "editable": true
   },
   "outputs": [
    {
     "name": "stdout",
     "output_type": "stream",
     "text": [
      "+--------------------+----------+------+------+------+-------+-------+-------+----------+\n",
      "|                msno|      date|num_25|num_50|num_75|num_985|num_100|num_unq|total_secs|\n",
      "+--------------------+----------+------+------+------+-------+-------+-------+----------+\n",
      "|rxIP2f2aN0rYNp+to...|2015-05-13|     0|     0|     0|      0|      1|      1|   280.335|\n",
      "|rxIP2f2aN0rYNp+to...|2015-07-09|     9|     1|     0|      0|      7|     11|  1658.948|\n",
      "|yxiEWwE9VR5utpUec...|2015-01-05|     3|     3|     0|      0|     68|     36| 17364.956|\n",
      "+--------------------+----------+------+------+------+-------+-------+-------+----------+\n",
      "only showing top 3 rows\n",
      "\n"
     ]
    }
   ],
   "source": [
    "userLogDF = getDF('dataset/user_logs_part.csv',[nothing,getDate,getInt,getInt,getInt,getInt,getInt,getInt,getFloat])\n",
    "userLogDF.show(3)"
   ]
  },
  {
   "cell_type": "markdown",
   "metadata": {
    "deletable": true,
    "editable": true
   },
   "source": [
    "<h3> Lets understand each of the data sets </h3>"
   ]
  },
  {
   "cell_type": "markdown",
   "metadata": {
    "deletable": true,
    "editable": true
   },
   "source": [
    "<h4> Lets start with members </h4>"
   ]
  },
  {
   "cell_type": "code",
   "execution_count": 10,
   "metadata": {
    "collapsed": false,
    "deletable": true,
    "editable": true
   },
   "outputs": [
    {
     "name": "stdout",
     "output_type": "stream",
     "text": [
      "+-------+--------------------+------------------+------------------+-------+------------------+\n",
      "|summary|                msno|              city|                bd| gender|    registered_via|\n",
      "+-------+--------------------+------------------+------------------+-------+------------------+\n",
      "|  count|             5116194|           5116194|           5116194|5116194|           5116194|\n",
      "|   mean|                null|4.0197252097946246| 9.772362228641056|   null| 5.248127221133522|\n",
      "| stddev|                null| 5.590288544399844|17.958749250419533|   null|2.2602259031188727|\n",
      "|    min|+++4vcS9aMH7KWdfh...|                 1|             -6998|       |                 3|\n",
      "|    max|zzzyOgMk9MljCerbC...|                22|              2015|   male|                16|\n",
      "+-------+--------------------+------------------+------------------+-------+------------------+\n",
      "\n"
     ]
    }
   ],
   "source": [
    "memDF.describe().show()"
   ]
  },
  {
   "cell_type": "code",
   "execution_count": 11,
   "metadata": {
    "collapsed": true,
    "deletable": true,
    "editable": true
   },
   "outputs": [],
   "source": [
    "# lets create a 5% sample and evaulate it\n",
    "memDFsamp = memDF.sample(True,0.05)"
   ]
  },
  {
   "cell_type": "code",
   "execution_count": 12,
   "metadata": {
    "collapsed": false,
    "deletable": true,
    "editable": true
   },
   "outputs": [
    {
     "name": "stdout",
     "output_type": "stream",
     "text": [
      "+-----------------+-------------------+----------------+------------------------+\n",
      "|   city_freqItems|       bd_freqItems|gender_freqItems|registered_via_freqItems|\n",
      "+-----------------+-------------------+----------------+------------------------+\n",
      "|[5, 13, 22, 4, 1]|[23, 29, 19, 21, 0]|[male, , female]|        [13, 4, 7, 3, 9]|\n",
      "+-----------------+-------------------+----------------+------------------------+\n",
      "\n"
     ]
    }
   ],
   "source": [
    "memDFsamp.freqItems(['city','bd','gender','registered_via'],0.2).show()"
   ]
  },
  {
   "cell_type": "code",
   "execution_count": 13,
   "metadata": {
    "collapsed": false,
    "deletable": true,
    "editable": true
   },
   "outputs": [
    {
     "name": "stdout",
     "output_type": "stream",
     "text": [
      "+------+\n",
      "|gender|\n",
      "+------+\n",
      "|female|\n",
      "|  male|\n",
      "|      |\n",
      "+------+\n",
      "\n",
      "None\n"
     ]
    }
   ],
   "source": [
    "for i in ['gender']:\n",
    "    print (memDFsamp.select(memDFsamp[i]).distinct().show())"
   ]
  },
  {
   "cell_type": "markdown",
   "metadata": {
    "deletable": true,
    "editable": true
   },
   "source": [
    "<h5> We find </h5>\n",
    "<ul> \n",
    "  <li> 22 possible Cities. Most of them are one of 5 (5,22,4,13,1)\n",
    "  <li> bd (age), seems to have a wide spread from -69988 to 2015\n",
    "  <li> gender has blank fields\n",
    "</ul>  "
   ]
  },
  {
   "cell_type": "markdown",
   "metadata": {
    "deletable": true,
    "editable": true
   },
   "source": [
    "<h4> Lets look at transactions </h4>"
   ]
  },
  {
   "cell_type": "code",
   "execution_count": 14,
   "metadata": {
    "collapsed": false,
    "deletable": true,
    "editable": true
   },
   "outputs": [
    {
     "name": "stdout",
     "output_type": "stream",
     "text": [
      "+-------+--------------------+------------------+------------------+------------------+------------------+------------------+-------------------+\n",
      "|summary|                msno| payment_method_id| payment_plan_days|   plan_list_price|actual_amount_paid|     is_auto_renew|          is_cancel|\n",
      "+-------+--------------------+------------------+------------------+------------------+------------------+------------------+-------------------+\n",
      "|  count|            21547746|          21547746|          21547746|          21547746|          21547746|          21547746|           21547746|\n",
      "|   mean|                null|38.933103026181946| 31.33906284211815|139.88501507303826|141.98732048354384|0.8519661406812573|0.03976522648819046|\n",
      "| stddev|                null|3.5079363754412363|30.356493755193444| 130.9647002917678|132.48242402576452|0.3551335546903191|0.19540715192284036|\n",
      "|    min|+++FOrTS7ab3tIgIh...|                 1|                 0|                 0|                 0|                 0|                  0|\n",
      "|    max|zzzyOgMk9MljCerbC...|                41|               450|              2000|              2000|                 1|                  1|\n",
      "+-------+--------------------+------------------+------------------+------------------+------------------+------------------+-------------------+\n",
      "\n"
     ]
    }
   ],
   "source": [
    "transactionsDF.describe().show()"
   ]
  },
  {
   "cell_type": "code",
   "execution_count": 15,
   "metadata": {
    "collapsed": false,
    "deletable": true,
    "editable": true
   },
   "outputs": [
    {
     "name": "stdout",
     "output_type": "stream",
     "text": [
      "+---------------------------+-------------------------+----------------------------+\n",
      "|payment_plan_days_freqItems|plan_list_price_freqItems|actual_amount_paid_freqItems|\n",
      "+---------------------------+-------------------------+----------------------------+\n",
      "|             [31, 7, 30, 0]|     [149, 180, 129, 9...|        [149, 180, 129, 9...|\n",
      "+---------------------------+-------------------------+----------------------------+\n",
      "\n"
     ]
    }
   ],
   "source": [
    "transactionsDFsamp = transactionsDF.sample(True,0.05)\n",
    "transactionsDFsamp.freqItems(['payment_plan_days','plan_list_price','actual_amount_paid'],0.2).show()"
   ]
  },
  {
   "cell_type": "markdown",
   "metadata": {
    "deletable": true,
    "editable": true
   },
   "source": [
    "<h5> We find </h5>\n",
    "<ul> \n",
    "  <li> Transaction data seems relatively clean\n",
    "  <li> All values seem within bounds\n",
    "</ul>  "
   ]
  },
  {
   "cell_type": "markdown",
   "metadata": {
    "deletable": true,
    "editable": true
   },
   "source": [
    "<h4> Lets look at user logs </h4>"
   ]
  },
  {
   "cell_type": "code",
   "execution_count": 16,
   "metadata": {
    "collapsed": false,
    "deletable": true,
    "editable": true
   },
   "outputs": [
    {
     "name": "stdout",
     "output_type": "stream",
     "text": [
      "+-------+--------------------+------------------+------------------+------------------+------------------+------------------+------------------+--------------------+\n",
      "|summary|                msno|            num_25|            num_50|            num_75|           num_985|           num_100|           num_unq|          total_secs|\n",
      "+-------+--------------------+------------------+------------------+------------------+------------------+------------------+------------------+--------------------+\n",
      "|  count|               99999|             99999|             99999|             99999|             99999|             99999|             99999|               99999|\n",
      "|   mean|                null| 6.446634466344664|1.6337163371633716| 1.008090080900809| 1.142011420114201|30.731637316373163|30.049430494304943|-1.84469284615286...|\n",
      "| stddev|                null|13.699597922127568| 4.203304768321667|2.0173413059183654|2.8517478162596546|  41.3927221784122| 33.84094902403416|1.304264379235331...|\n",
      "|    min|++CITmZPtQDWOi01u...|                 0|                 0|                 0|                 0|                 0|                 1|-9.22337203685383...|\n",
      "|    max|zzhOyfpn2MeT6z9IF...|               653|               241|               123|               202|              1524|               929|          872537.933|\n",
      "+-------+--------------------+------------------+------------------+------------------+------------------+------------------+------------------+--------------------+\n",
      "\n"
     ]
    }
   ],
   "source": [
    "userLogDF.describe().show()"
   ]
  },
  {
   "cell_type": "code",
   "execution_count": 17,
   "metadata": {
    "collapsed": false,
    "deletable": true,
    "editable": true
   },
   "outputs": [
    {
     "name": "stdout",
     "output_type": "stream",
     "text": [
      "+--------------------+----------+------+------+------+-------+-------+-------+----------+\n",
      "|                msno|      date|num_25|num_50|num_75|num_985|num_100|num_unq|total_secs|\n",
      "+--------------------+----------+------+------+------+-------+-------+-------+----------+\n",
      "|rxIP2f2aN0rYNp+to...|2015-05-13|     0|     0|     0|      0|      1|      1|   280.335|\n",
      "|rxIP2f2aN0rYNp+to...|2015-07-09|     9|     1|     0|      0|      7|     11|  1658.948|\n",
      "|yxiEWwE9VR5utpUec...|2015-01-05|     3|     3|     0|      0|     68|     36| 17364.956|\n",
      "|yxiEWwE9VR5utpUec...|2015-03-06|     1|     0|     1|      1|     97|     27| 24667.317|\n",
      "|yxiEWwE9VR5utpUec...|2015-05-01|     3|     0|     0|      0|     38|     38|  9649.029|\n",
      "|yxiEWwE9VR5utpUec...|2015-07-02|     4|     0|     1|      1|     33|     10|  10021.52|\n",
      "|yxiEWwE9VR5utpUec...|2015-08-30|     3|     1|     0|      0|      4|      7|  1119.555|\n",
      "|yxiEWwE9VR5utpUec...|2015-11-07|     1|     0|     0|      0|      4|      5|   938.022|\n",
      "|yxiEWwE9VR5utpUec...|2016-01-10|     2|     0|     1|      0|     11|      6|  3004.068|\n",
      "|yxiEWwE9VR5utpUec...|2016-03-16|     9|     3|     4|      1|     67|     50| 18257.661|\n",
      "+--------------------+----------+------+------+------+-------+-------+-------+----------+\n",
      "only showing top 10 rows\n",
      "\n"
     ]
    }
   ],
   "source": [
    "userLogDF.show(10)"
   ]
  },
  {
   "cell_type": "markdown",
   "metadata": {
    "deletable": true,
    "editable": true
   },
   "source": [
    "<h5> We find </h5>\n",
    "<ul> \n",
    "  <li> User logs data seems relatively clean\n",
    "  <li> Looks like a sparse matrix\n",
    "  <li> The 100% played column has better mean and std deviation\n",
    "  <li> There seem to be some major min & max values\n",
    "</ul>  "
   ]
  },
  {
   "cell_type": "markdown",
   "metadata": {
    "deletable": true,
    "editable": true
   },
   "source": [
    "<h4> Lets plot some training data </h4>"
   ]
  },
  {
   "cell_type": "code",
   "execution_count": 18,
   "metadata": {
    "collapsed": false,
    "deletable": true,
    "editable": true
   },
   "outputs": [
    {
     "name": "stdout",
     "output_type": "stream",
     "text": [
      "+--------+------+\n",
      "|is_churn| count|\n",
      "+--------+------+\n",
      "|       0|929460|\n",
      "|       1| 63471|\n",
      "+--------+------+\n",
      "\n"
     ]
    }
   ],
   "source": [
    "d = trainDF.groupby(['is_churn']).count()\n",
    "d.show()"
   ]
  },
  {
   "cell_type": "code",
   "execution_count": 19,
   "metadata": {
    "collapsed": false,
    "deletable": true,
    "editable": true
   },
   "outputs": [
    {
     "data": {
      "image/png": "[encoded data removed]",
      "text/plain": [
       "<matplotlib.figure.Figure at 0x10679bda0>"
      ]
     },
     "metadata": {},
     "output_type": "display_data"
    },
    {
     "data": {
      "text/plain": [
       "<ggplot: (-9223372036572573205)>"
      ]
     },
     "execution_count": 19,
     "metadata": {},
     "output_type": "execute_result"
    }
   ],
   "source": [
    "ggplot(aes(x='is_churn'),data=trainDF.toPandas()) + geom_bar() + ggtitle(\"Training Data - churn\")"
   ]
  },
  {
   "cell_type": "code",
   "execution_count": 23,
   "metadata": {
    "collapsed": false,
    "deletable": true,
    "editable": true
   },
   "outputs": [
    {
     "name": "stdout",
     "output_type": "stream",
     "text": [
      "+------+-------+\n",
      "|gender|  count|\n",
      "+------+-------+\n",
      "|female| 858565|\n",
      "|  male| 902851|\n",
      "|      |3354778|\n",
      "+------+-------+\n",
      "\n"
     ]
    }
   ],
   "source": [
    "d = memDF.groupby(['gender']).count()\n",
    "d.show()"
   ]
  },
  {
   "cell_type": "code",
   "execution_count": null,
   "metadata": {
    "collapsed": false,
    "deletable": true,
    "editable": true
   },
   "outputs": [],
   "source": [
    "pyplot.plot(d.select('gender').collect(),d.select('count').collect())"
   ]
  },
  {
   "cell_type": "code",
   "execution_count": 27,
   "metadata": {
    "collapsed": false,
    "deletable": true,
    "editable": true
   },
   "outputs": [],
   "source": [
    "genderData = d.select('gender').collect()"
   ]
  },
  {
   "cell_type": "code",
   "execution_count": 28,
   "metadata": {
    "collapsed": false,
    "deletable": true,
    "editable": true
   },
   "outputs": [],
   "source": [
    "countData = d.select('count').collect()"
   ]
  },
  {
   "cell_type": "code",
   "execution_count": 47,
   "metadata": {
    "collapsed": false
   },
   "outputs": [
    {
     "data": {
      "text/plain": [
       "pyspark.sql.types.Row"
      ]
     },
     "execution_count": 47,
     "metadata": {},
     "output_type": "execute_result"
    }
   ],
   "source": [
    "type(genderData[0])"
   ]
  },
  {
   "cell_type": "code",
   "execution_count": 44,
   "metadata": {
    "collapsed": false
   },
   "outputs": [
    {
     "data": {
      "image/png": "[encoded data removed]",
      "text/plain": [
       "<matplotlib.figure.Figure at 0x11091b7f0>"
      ]
     },
     "metadata": {},
     "output_type": "display_data"
    }
   ],
   "source": [
    "pyplt.figure(1, figsize=(9, 3))\n",
    "#pyplt.bar(genderData,countData)\n",
    "pyplt.show()"
   ]
  },
  {
   "cell_type": "code",
   "execution_count": null,
   "metadata": {
    "collapsed": true
   },
   "outputs": [],
   "source": []
  }
 ],
 "metadata": {
  "kernelspec": {
   "display_name": "Python 3",
   "language": "python",
   "name": "python3"
  },
  "language_info": {
   "codemirror_mode": {
    "name": "ipython",
    "version": 3
   },
   "file_extension": ".py",
   "mimetype": "text/x-python",
   "name": "python",
   "nbconvert_exporter": "python",
   "pygments_lexer": "ipython3",
   "version": "3.5.2"
  }
 },
 "nbformat": 4,
 "nbformat_minor": 2
}
